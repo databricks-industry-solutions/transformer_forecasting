{
 "cells": [
  {
   "cell_type": "markdown",
   "metadata": {
    "application/vnd.databricks.v1+cell": {
     "cellMetadata": {
      "byteLimit": 2048000,
      "rowLimit": 10000
     },
     "inputWidgets": {},
     "nuid": "774048e7-2d51-499d-bdd9-cfcdf0bc689e",
     "showTitle": false,
     "tableResultSettingsMap": {},
     "title": ""
    }
   },
   "source": [
    "This is an example notebook that shows how to use [chronos](https://github.com/amazon-science/chronos-forecasting/tree/main) models on Databricks. The notebook loads, fine-tunes, and registers the model."
   ]
  },
  {
   "cell_type": "markdown",
   "metadata": {
    "application/vnd.databricks.v1+cell": {
     "cellMetadata": {
      "byteLimit": 2048000,
      "rowLimit": 10000
     },
     "inputWidgets": {},
     "nuid": "ef1d5490-4a14-4f54-b047-db20e4c8d105",
     "showTitle": false,
     "tableResultSettingsMap": {},
     "title": ""
    }
   },
   "source": [
    "## Cluster setup\n",
    "We recommend using a cluster with [Databricks Runtime 16.4 LTS for ML](https://docs.databricks.com/en/release-notes/runtime/16.4lts-ml.html). The cluster can be single-node or multi-node with one or more GPU instances on each worker: e.g. [g5.12xlarge [A10G]](https://aws.amazon.com/ec2/instance-types/g5/) on AWS or [Standard_NV72ads_A10_v5](https://learn.microsoft.com/en-us/azure/virtual-machines/nva10v5-series) on Azure."
   ]
  },
  {
   "cell_type": "markdown",
   "metadata": {
    "application/vnd.databricks.v1+cell": {
     "cellMetadata": {
      "byteLimit": 2048000,
      "rowLimit": 10000
     },
     "inputWidgets": {},
     "nuid": "ae4b44c0-ab63-43ab-a70c-6e095373fa52",
     "showTitle": false,
     "tableResultSettingsMap": {},
     "title": ""
    }
   },
   "source": [
    "## Install package"
   ]
  },
  {
   "cell_type": "code",
   "execution_count": 0,
   "metadata": {
    "application/vnd.databricks.v1+cell": {
     "cellMetadata": {
      "byteLimit": 2048000,
      "rowLimit": 10000
     },
     "inputWidgets": {},
     "nuid": "108c77a8-7145-478d-a748-2d172c124846",
     "showTitle": false,
     "tableResultSettingsMap": {},
     "title": ""
    }
   },
   "outputs": [],
   "source": [
    "%pip install \"chronos-forecasting[training] @ git+https://github.com/amazon-science/chronos-forecasting.git\" --quiet\n",
    "dbutils.library.restartPython()"
   ]
  },
  {
   "cell_type": "markdown",
   "metadata": {
    "application/vnd.databricks.v1+cell": {
     "cellMetadata": {
      "byteLimit": 2048000,
      "rowLimit": 10000
     },
     "inputWidgets": {},
     "nuid": "2f76c501-9852-4217-8b99-53cf9e64b6b6",
     "showTitle": false,
     "tableResultSettingsMap": {},
     "title": ""
    }
   },
   "source": [
    "## Prepare data \n",
    "We use [`datasetsforecast`](https://github.com/Nixtla/datasetsforecast/tree/main/) package to download M4 data. M4 dataset contains a set of time series which we use for testing. See the `data_preparation` notebook for a number of custom functions we wrote to convert M4 time series to an expected format.\n",
    "\n",
    "Make sure that the catalog and the schema already exist."
   ]
  },
  {
   "cell_type": "code",
   "execution_count": 0,
   "metadata": {
    "application/vnd.databricks.v1+cell": {
     "cellMetadata": {
      "byteLimit": 2048000,
      "rowLimit": 10000
     },
     "inputWidgets": {},
     "nuid": "90ad87a2-40ba-4ee3-bd51-f6d3dbc47ea7",
     "showTitle": false,
     "tableResultSettingsMap": {},
     "title": ""
    }
   },
   "outputs": [],
   "source": [
    "catalog = \"tsfm\"  # Name of the catalog we use to manage our assets\n",
    "db = \"m4\"  # Name of the schema we use to manage our assets (e.g. datasets)\n",
    "volume = \"chronos_fine_tune\" # Name of the volume we store the data and the weigts\n",
    "model = \"chronos-t5-tiny\" # Chronos model to finetune. Alternatives: -mini, -small, -base, -large\n",
    "n = 1000  # Number of time series to sample"
   ]
  },
  {
   "cell_type": "code",
   "execution_count": 0,
   "metadata": {
    "application/vnd.databricks.v1+cell": {
     "cellMetadata": {
      "byteLimit": 2048000,
      "rowLimit": 10000
     },
     "inputWidgets": {},
     "nuid": "21698056-6f97-4447-9ced-0ebe90f07373",
     "showTitle": false,
     "tableResultSettingsMap": {},
     "title": ""
    }
   },
   "outputs": [],
   "source": [
    "# This cell runs the notebook ../data_preparation and creates the following tables with M4 data: \n",
    "# 1. {catalog}.{db}.m4_daily_train\n",
    "# 2. {catalog}.{db}.m4_monthly_train\n",
    "dbutils.notebook.run(\"./99_data_preparation\", timeout_seconds=0, arguments={\"catalog\": catalog, \"db\": db, \"n\": n})"
   ]
  },
  {
   "cell_type": "code",
   "execution_count": 0,
   "metadata": {
    "application/vnd.databricks.v1+cell": {
     "cellMetadata": {
      "byteLimit": 2048000,
      "rowLimit": 10000
     },
     "inputWidgets": {},
     "nuid": "fa438d43-9224-4b6f-a646-376f914d2751",
     "showTitle": false,
     "tableResultSettingsMap": {},
     "title": ""
    }
   },
   "outputs": [],
   "source": [
    "from pyspark.sql.functions import collect_list\n",
    "\n",
    "# Make sure that the data exists\n",
    "df = spark.table(f'{catalog}.{db}.m4_daily_train')\n",
    "df = df.groupBy('unique_id').agg(collect_list('ds').alias('ds'), collect_list('y').alias('y')).toPandas()\n",
    "display(df)"
   ]
  },
  {
   "cell_type": "markdown",
   "metadata": {
    "application/vnd.databricks.v1+cell": {
     "cellMetadata": {
      "byteLimit": 2048000,
      "rowLimit": 10000
     },
     "inputWidgets": {},
     "nuid": "9505b5ba-120c-467d-af5f-c9398b26446c",
     "showTitle": false,
     "tableResultSettingsMap": {},
     "title": ""
    }
   },
   "source": [
    "We need to convert our time series dataset into a GluonTS-compatible file dataset."
   ]
  },
  {
   "cell_type": "code",
   "execution_count": 0,
   "metadata": {
    "application/vnd.databricks.v1+cell": {
     "cellMetadata": {
      "byteLimit": 2048000,
      "rowLimit": 10000
     },
     "inputWidgets": {},
     "nuid": "900f7eae-3e53-45f5-abfd-e9bbe7df2e9b",
     "showTitle": false,
     "tableResultSettingsMap": {},
     "title": ""
    }
   },
   "outputs": [],
   "source": [
    "import numpy as np\n",
    "from pathlib import Path\n",
    "from typing import List, Optional, Union\n",
    "from gluonts.dataset.arrow import ArrowWriter\n",
    "\n",
    "def convert_to_arrow(\n",
    "    path: Union[str, Path],\n",
    "    time_series: Union[List[np.ndarray], np.ndarray],\n",
    "    start_times: Optional[Union[List[np.datetime64], np.ndarray]] = None,\n",
    "    compression: str = \"lz4\",\n",
    "):\n",
    "    \"\"\"\n",
    "    This function converts time series data into the Apache Arrow format and saves it to a file.\n",
    "    \n",
    "    Parameters:\n",
    "    - path (Union[str, Path]): The file path where the Arrow file will be saved.\n",
    "    - time_series (Union[List[np.ndarray], np.ndarray]): The time series data to be converted.\n",
    "    - start_times (Optional[Union[List[np.datetime64], np.ndarray]]): The start times for each time series. If None, a default start time is used.\n",
    "    - compression (str): The compression algorithm to use for the Arrow file. Default is 'lz4'.\n",
    "    \"\"\"\n",
    "    \n",
    "    # If start_times is not provided, set all start times to '2000-01-01 00:00:00'\n",
    "    if start_times is None:\n",
    "        start_times = [np.datetime64(\"2000-01-01 00:00\", \"s\")] * len(time_series)\n",
    "\n",
    "    # Ensure there is a start time for each time series\n",
    "    assert len(time_series) == len(start_times)\n",
    "\n",
    "    # Create a list of dictionaries where each dictionary represents a time series\n",
    "    # Each dictionary contains the start time and the corresponding time series data\n",
    "    dataset = [\n",
    "        {\"start\": start, \"target\": ts} for ts, start in zip(time_series, start_times)\n",
    "    ]\n",
    "    \n",
    "    # Use ArrowWriter to write the dataset to a file in Arrow format with the specified compression\n",
    "    ArrowWriter(compression=compression).write_to_file(\n",
    "        dataset,\n",
    "        path=path,\n",
    "    )\n"
   ]
  },
  {
   "cell_type": "markdown",
   "metadata": {
    "application/vnd.databricks.v1+cell": {
     "cellMetadata": {
      "byteLimit": 2048000,
      "rowLimit": 10000
     },
     "inputWidgets": {},
     "nuid": "2bdad5ca-84a4-43b0-be6e-2463b3ab0034",
     "showTitle": false,
     "tableResultSettingsMap": {},
     "title": ""
    }
   },
   "source": [
    "Convert the Pandas dataframe to an arrow file and write it to UC Volume.  "
   ]
  },
  {
   "cell_type": "code",
   "execution_count": 0,
   "metadata": {
    "application/vnd.databricks.v1+cell": {
     "cellMetadata": {
      "byteLimit": 2048000,
      "rowLimit": 10000
     },
     "inputWidgets": {},
     "nuid": "bd7310bb-d83b-4bf1-b21d-92b2f569f48f",
     "showTitle": false,
     "tableResultSettingsMap": {},
     "title": ""
    }
   },
   "outputs": [],
   "source": [
    "time_series = list(df[\"y\"])\n",
    "start_times = list(df[\"ds\"].apply(lambda x: x.min().to_numpy()))\n",
    "\n",
    "# Make sure that the volume exists. We stored the fine-tuned weights here.\n",
    "_ = spark.sql(f\"CREATE VOLUME IF NOT EXISTS {catalog}.{db}.{volume}\")\n",
    "\n",
    "# Convert to GluonTS arrow format and save it in UC Volume\n",
    "convert_to_arrow(\n",
    "    f\"/Volumes/{catalog}/{db}/{volume}/data.arrow\", \n",
    "    time_series=time_series, \n",
    "    start_times=start_times,\n",
    "    )"
   ]
  },
  {
   "cell_type": "markdown",
   "metadata": {
    "application/vnd.databricks.v1+cell": {
     "cellMetadata": {
      "byteLimit": 2048000,
      "rowLimit": 10000
     },
     "inputWidgets": {},
     "nuid": "9ccaae89-d0ed-40f0-b5ab-db3675ec6580",
     "showTitle": false,
     "tableResultSettingsMap": {},
     "title": ""
    }
   },
   "source": [
    "##Run Fine-tuning\n",
    "\n",
    "In this example, we wil fine-tune `amazon/chronos-t5-tiny` for 1000 steps with initial learning rate of 1e-3. \n",
    "\n",
    "Make sure that you have the configuration yaml files placed inside the `configs` folder and the `train.py` script in the same directory. These two assets are taken directly from [chronos-forecasting/scripts/training](https://github.com/amazon-science/chronos-forecasting/tree/main/scripts/training). They are subject to change as the Chronos' team develops the framework further. Keep your eyes on the latest changes (we will try too) and use the latest versions as needed. We have made a small change to our `train.py` script and set the frequency of the time series to daily (\"D\"). \n",
    "\n",
    "Inside the configuration yaml (for this example, `configs/chronos-t5-tiny.yaml`), make sure to set the parameters: \n",
    "- `training_data_paths` to `/Volumes/tsfm/m4/chronos_fine_tune/data.arrow`, where your arrow converted file is stored\n",
    "- `probability` to `1.0` if there is only one data source\n",
    "- `prediction_length` to your use case's forecasting horizon (in this example `10`)\n",
    "- `num_samples` to how many sample you want to generate  \n",
    "- `output_dir` to `/Volumes/tsfm/m4/chronos_fine_tune/`, where you want to store your fine-tuned weights\n",
    "\n",
    "And other parameters if needed. \n",
    "\n",
    "`CUDA_VISIBLE_DEVICES` tell the script about the avalaible GPU resources. In this example, we are using a single node cluster with g5.12xlarge on AWS, which comes with 4 A10G GPU isntances, hence `CUDA_VISIBLE_DEVICES=0,1,2,3`. See Chronos' training [README](https://github.com/amazon-science/chronos-forecasting/blob/main/scripts/README.md) for more information on multinode multigpu setup."
   ]
  },
  {
   "cell_type": "code",
   "execution_count": 0,
   "metadata": {
    "application/vnd.databricks.v1+cell": {
     "cellMetadata": {
      "byteLimit": 2048000,
      "rowLimit": 10000
     },
     "inputWidgets": {},
     "nuid": "cfa3dd98-3d1a-4561-bba7-174d444c4590",
     "showTitle": false,
     "tableResultSettingsMap": {},
     "title": ""
    }
   },
   "outputs": [],
   "source": [
    "%sh CUDA_VISIBLE_DEVICES=0,1,2,3 python chronos_train.py \\\n",
    "    --config configs/chronos/chronos-t5-tiny.yaml \\\n",
    "    --model-id amazon/chronos-t5-tiny \\\n",
    "    --no-random-init \\\n",
    "    --max-steps 1000 \\\n",
    "    --learning-rate 0.001"
   ]
  },
  {
   "cell_type": "markdown",
   "metadata": {
    "application/vnd.databricks.v1+cell": {
     "cellMetadata": {
      "byteLimit": 2048000,
      "rowLimit": 10000
     },
     "inputWidgets": {},
     "nuid": "0f1d3988-833d-4c70-a040-ed8d0b4d5b67",
     "showTitle": false,
     "tableResultSettingsMap": {},
     "title": ""
    }
   },
   "source": [
    "##Register Model\n",
    "We get the fine-tuned weights from the latest run from UC volume, wrap the pipeline with [`mlflow.pyfunc.PythonModel`](https://mlflow.org/docs/latest/python_api/mlflow.pyfunc.html) and register this on Unity Catalog."
   ]
  },
  {
   "cell_type": "code",
   "execution_count": 0,
   "metadata": {
    "application/vnd.databricks.v1+cell": {
     "cellMetadata": {
      "byteLimit": 2048000,
      "rowLimit": 10000
     },
     "inputWidgets": {},
     "nuid": "33e4af9b-9d23-497f-973b-15bca2a13d93",
     "showTitle": false,
     "tableResultSettingsMap": {},
     "title": ""
    }
   },
   "outputs": [],
   "source": [
    "import os\n",
    "import glob\n",
    "import mlflow\n",
    "import torch\n",
    "import torchvision\n",
    "import cloudpickle\n",
    "import transformers\n",
    "import numpy as np\n",
    "from mlflow.models.signature import ModelSignature\n",
    "from mlflow.types import DataType, Schema, TensorSpec\n",
    "\n",
    "# Set the registry URI for MLflow to Databricks Unity Catalog\n",
    "mlflow.set_registry_uri(\"databricks-uc\")\n",
    "experiment_name = \"/Shared/chronos/\"\n",
    "\n",
    "class FineTunedChronosModel(mlflow.pyfunc.PythonModel):\n",
    "    def load_context(self, context):\n",
    "        \"\"\"\n",
    "        Load the model context including the pretrained weights.\n",
    "        The model is loaded onto a GPU if available, otherwise on CPU.\n",
    "        \"\"\"\n",
    "        import torch\n",
    "        from chronos import ChronosPipeline\n",
    "        \n",
    "        # Load the pretrained model pipeline from provided weights\n",
    "        self.pipeline = ChronosPipeline.from_pretrained(\n",
    "            context.artifacts[\"weights\"],\n",
    "            device_map=\"cuda\" if torch.cuda.is_available() else \"cpu\",\n",
    "            torch_dtype=torch.bfloat16,\n",
    "        )\n",
    "\n",
    "    def predict(self, context, input_data, params=None):\n",
    "        \"\"\"\n",
    "        Make predictions using the loaded model.\n",
    "        \n",
    "        Parameters:\n",
    "        - context: The context in which the model is being run.\n",
    "        - input_data: The input data for prediction, expected to be a list of series.\n",
    "        - params: Additional parameters for prediction (not used here).\n",
    "        \n",
    "        Returns:\n",
    "        - forecast: The predicted results as a NumPy array.\n",
    "        \"\"\"\n",
    "        # Convert input data to a list of torch tensors\n",
    "        history = [torch.tensor(list(series)) for series in input_data]\n",
    "        \n",
    "        # Make predictions using the model pipeline\n",
    "        forecast = self.pipeline.predict(\n",
    "            context=history,\n",
    "            prediction_length=10,\n",
    "            num_samples=10,\n",
    "        )\n",
    "        \n",
    "        # Convert the forecast to a NumPy array and return\n",
    "        return forecast.numpy()\n",
    "\n",
    "# Directory path components for locating the latest run\n",
    "files = os.listdir(f\"/Volumes/{catalog}/{db}/{volume}/\")\n",
    "\n",
    "# Extract run numbers from the directory names\n",
    "runs = [int(file[4:]) for file in files if \"run-\" in file] + [0]\n",
    "\n",
    "# Identify the latest run based on the highest run number\n",
    "latest_run = max(runs)\n",
    "\n",
    "# Construct the registered model name and weights path\n",
    "registered_model_name = f\"{catalog}.{db}.{model}_finetuned\"\n",
    "weights = f\"/Volumes/{catalog}/{db}/{volume}/run-{latest_run}/checkpoint-final/\"\n",
    "\n",
    "# Define the model input and output schema for registration\n",
    "input_schema = Schema([TensorSpec(np.dtype(np.double), (-1, -1))])\n",
    "output_schema = Schema([TensorSpec(np.dtype(np.uint8), (-1, -1, -1))])\n",
    "signature = ModelSignature(inputs=input_schema, outputs=output_schema)\n",
    "\n",
    "# Example input data for model registration\n",
    "input_example = np.random.rand(1, 52)\n",
    "\n",
    "# Register the fine-tuned model with MLflow\n",
    "mlflow.set_experiment(experiment_name)\n",
    "with mlflow.start_run() as run:\n",
    "    mlflow.pyfunc.log_model(\n",
    "        \"model\",\n",
    "        python_model=FineTunedChronosModel(),\n",
    "        artifacts={\"weights\": weights},\n",
    "        registered_model_name=registered_model_name,\n",
    "        signature=signature,\n",
    "        input_example=input_example,\n",
    "        pip_requirements=[\n",
    "            \"torch==\" + torch.__version__.split(\"+\")[0],\n",
    "            \"torchvision==\" + torchvision.__version__.split(\"+\")[0],\n",
    "            \"transformers==\" + transformers.__version__,\n",
    "            \"cloudpickle==\" + cloudpickle.__version__,\n",
    "            \"chronos-forecasting[training] @ git+https://github.com/amazon-science/chronos-forecasting.git\",\n",
    "        ],\n",
    "    )\n"
   ]
  },
  {
   "cell_type": "markdown",
   "metadata": {
    "application/vnd.databricks.v1+cell": {
     "cellMetadata": {
      "byteLimit": 2048000,
      "rowLimit": 10000
     },
     "inputWidgets": {},
     "nuid": "efd667f1-4562-4a25-a4f1-68efcfd694bc",
     "showTitle": false,
     "tableResultSettingsMap": {},
     "title": ""
    }
   },
   "source": [
    "##Reload Model\n",
    "We reload the model from the registry and perform forecasting on the in-training time series (for testing purpose). You can also go ahead and deploy this model behind a Model Serving's real-time endpoint. See the previous notebook: `01_chronos_load_inference` for more information."
   ]
  },
  {
   "cell_type": "code",
   "execution_count": 0,
   "metadata": {
    "application/vnd.databricks.v1+cell": {
     "cellMetadata": {
      "byteLimit": 2048000,
      "rowLimit": 10000
     },
     "inputWidgets": {},
     "nuid": "5ad57ea3-f7f4-40b9-890e-b28b64c547d7",
     "showTitle": false,
     "tableResultSettingsMap": {},
     "title": ""
    }
   },
   "outputs": [],
   "source": [
    "from mlflow import MlflowClient\n",
    "\n",
    "# Create an instance of the MlflowClient to interact with the MLflow tracking server\n",
    "client = MlflowClient()\n",
    "\n",
    "def get_latest_model_version(client, registered_model_name):\n",
    "    \"\"\"\n",
    "    Retrieve the latest version number of a registered model.\n",
    "    \n",
    "    Parameters:\n",
    "    - client (MlflowClient): The MLflow client instance.\n",
    "    - registered_model_name (str): The name of the registered model.\n",
    "    \n",
    "    Returns:\n",
    "    - latest_version (int): The latest version number of the registered model.\n",
    "    \"\"\"\n",
    "    # Initialize the latest version to 1 (assuming at least one version exists)\n",
    "    latest_version = 1\n",
    "    \n",
    "    # Iterate over all model versions for the given registered model\n",
    "    for mv in client.search_model_versions(f\"name='{registered_model_name}'\"):\n",
    "        # Convert the version to an integer\n",
    "        version_int = int(mv.version)\n",
    "        \n",
    "        # Update the latest version if a higher version is found\n",
    "        if version_int > latest_version:\n",
    "            latest_version = version_int\n",
    "            \n",
    "    # Return the latest version number\n",
    "    return latest_version\n",
    "\n",
    "# Get the latest version of the registered model\n",
    "model_version = get_latest_model_version(client, registered_model_name)\n",
    "\n",
    "# Construct the URI for the logged model using the registered model name and latest version\n",
    "logged_model = f\"models:/{registered_model_name}/{model_version}\"\n",
    "\n",
    "# Load the model as a PyFuncModel from the logged model URI\n",
    "loaded_model = mlflow.pyfunc.load_model(logged_model)\n",
    "\n",
    "# Create input data for prediction from the first 100 elements of the 'y' column in a DataFrame\n",
    "input_data = df[\"y\"][:100].to_numpy() # Shape should be (batch, series)\n",
    "\n",
    "# Generate forecasts using the loaded model\n",
    "loaded_model.predict(input_data)"
   ]
  },
  {
   "cell_type": "markdown",
   "metadata": {
    "application/vnd.databricks.v1+cell": {
     "cellMetadata": {
      "byteLimit": 2048000,
      "rowLimit": 10000
     },
     "inputWidgets": {},
     "nuid": "b141bf76-f4d5-4030-80db-fbed74cd8c00",
     "showTitle": false,
     "tableResultSettingsMap": {},
     "title": ""
    }
   },
   "source": [
    "© 2024 Databricks, Inc. All rights reserved. \n",
    "\n",
    "The sources in all notebooks in this directory and the sub-directories are provided subject to the Databricks License. All included or referenced third party libraries are subject to the licenses set forth below."
   ]
  }
 ],
 "metadata": {
  "application/vnd.databricks.v1+notebook": {
   "computePreferences": null,
   "dashboards": [],
   "environmentMetadata": null,
   "inputWidgetPreferences": null,
   "language": "python",
   "notebookMetadata": {
    "mostRecentlyExecutedCommandWithImplicitDF": {
     "commandId": 5816783787061291,
     "dataframes": [
      "_sqldf"
     ]
    },
    "pythonIndentUnit": 2
   },
   "notebookName": "01b_chronos_fine_tune",
   "widgets": {}
  },
  "language_info": {
   "name": "python"
  }
 },
 "nbformat": 4,
 "nbformat_minor": 0
}
