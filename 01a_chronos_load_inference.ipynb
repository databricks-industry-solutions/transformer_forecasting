{
 "cells": [
  {
   "cell_type": "markdown",
   "metadata": {
    "application/vnd.databricks.v1+cell": {
     "cellMetadata": {
      "byteLimit": 2048000,
      "rowLimit": 10000
     },
     "inputWidgets": {},
     "nuid": "9e591546-1817-4541-8889-b69a76185f0b",
     "showTitle": false,
     "tableResultSettingsMap": {},
     "title": ""
    }
   },
   "source": [
    "This is an example notebook that shows how to use [chronos](https://github.com/amazon-science/chronos-forecasting/tree/main) models on Databricks. The notebook loads the model, distributes the inference, registers the model, deploys the model and makes online forecasts."
   ]
  },
  {
   "cell_type": "markdown",
   "metadata": {
    "application/vnd.databricks.v1+cell": {
     "cellMetadata": {
      "byteLimit": 2048000,
      "rowLimit": 10000
     },
     "inputWidgets": {},
     "nuid": "ebeff892-12ff-4b6e-87d3-f8c94f2ed654",
     "showTitle": false,
     "tableResultSettingsMap": {},
     "title": ""
    }
   },
   "source": [
    "## Cluster setup\n",
    "\n",
    "We recommend using a cluster with [Databricks Runtime 16.4 LTS for ML](https://docs.databricks.com/en/release-notes/runtime/16.4lts-ml.html). The cluster can be single-node or multi-node with one or more GPU instances on each worker: e.g. [g5.12xlarge [A10G]](https://aws.amazon.com/ec2/instance-types/g5/) on AWS or [Standard_NV72ads_A10_v5](https://learn.microsoft.com/en-us/azure/virtual-machines/nva10v5-series) on Azure. This notebook will leverage [Pandas UDF](https://docs.databricks.com/en/udf/pandas.html) for distributing the inference tasks and utilizing all the available resource."
   ]
  },
  {
   "cell_type": "markdown",
   "metadata": {
    "application/vnd.databricks.v1+cell": {
     "cellMetadata": {
      "byteLimit": 2048000,
      "rowLimit": 10000
     },
     "inputWidgets": {},
     "nuid": "dfe46bec-e879-46ce-8f2f-8b610cdba376",
     "showTitle": false,
     "tableResultSettingsMap": {},
     "title": ""
    }
   },
   "source": [
    "## Install package"
   ]
  },
  {
   "cell_type": "code",
   "execution_count": 0,
   "metadata": {
    "application/vnd.databricks.v1+cell": {
     "cellMetadata": {
      "byteLimit": 2048000,
      "rowLimit": 10000
     },
     "inputWidgets": {},
     "nuid": "084d3e7b-9283-4db3-b705-a37f24bb932b",
     "showTitle": false,
     "tableResultSettingsMap": {},
     "title": ""
    }
   },
   "outputs": [],
   "source": [
    "%pip install chronos-forecasting==1.5.3 --quiet\n",
    "dbutils.library.restartPython()"
   ]
  },
  {
   "cell_type": "markdown",
   "metadata": {
    "application/vnd.databricks.v1+cell": {
     "cellMetadata": {
      "byteLimit": 2048000,
      "rowLimit": 10000
     },
     "inputWidgets": {},
     "nuid": "2c905adb-1395-4b9d-bebe-47a7ae08d1b8",
     "showTitle": false,
     "tableResultSettingsMap": {},
     "title": ""
    }
   },
   "source": [
    "## Prepare data \n",
    "We use [`datasetsforecast`](https://github.com/Nixtla/datasetsforecast/tree/main/) package to download M4 data. M4 dataset contains a set of time series which we use for testing. See the `data_preparation` notebook for a number of custom functions we wrote to convert M4 time series to an expected format.\n",
    "\n",
    "Make sure that the catalog and the schema already exist."
   ]
  },
  {
   "cell_type": "code",
   "execution_count": 0,
   "metadata": {
    "application/vnd.databricks.v1+cell": {
     "cellMetadata": {
      "byteLimit": 2048000,
      "rowLimit": 10000
     },
     "inputWidgets": {},
     "nuid": "0f811818-2bde-423f-877b-b922a8d456d5",
     "showTitle": false,
     "tableResultSettingsMap": {},
     "title": ""
    }
   },
   "outputs": [],
   "source": [
    "catalog = \"tsfm\"  # Name of the catalog we use to manage our assets\n",
    "db = \"m4\" # Name of the schema we use to manage our assets (e.g. datasets)\n",
    "n = 100  # Number of time series to sample"
   ]
  },
  {
   "cell_type": "code",
   "execution_count": 0,
   "metadata": {
    "application/vnd.databricks.v1+cell": {
     "cellMetadata": {
      "byteLimit": 2048000,
      "rowLimit": 10000
     },
     "inputWidgets": {},
     "nuid": "2ab42d83-ac79-4116-8c32-ee7618b8f275",
     "showTitle": false,
     "tableResultSettingsMap": {},
     "title": ""
    }
   },
   "outputs": [],
   "source": [
    "# This cell runs the notebook ../data_preparation and creates the following tables with M4 data: \n",
    "# 1. {catalog}.{db}.m4_daily_train\n",
    "# 2. {catalog}.{db}.m4_monthly_train\n",
    "dbutils.notebook.run(\"./99_data_preparation\", timeout_seconds=0, arguments={\"catalog\": catalog, \"db\": db, \"n\": n})"
   ]
  },
  {
   "cell_type": "code",
   "execution_count": 0,
   "metadata": {
    "application/vnd.databricks.v1+cell": {
     "cellMetadata": {
      "byteLimit": 2048000,
      "rowLimit": 10000
     },
     "inputWidgets": {},
     "nuid": "1f5a2910-0258-4985-96dc-a9271255b423",
     "showTitle": false,
     "tableResultSettingsMap": {},
     "title": ""
    }
   },
   "outputs": [],
   "source": [
    "from pyspark.sql.functions import collect_list\n",
    "\n",
    "# Make sure that the data exists\n",
    "df = spark.table(f'{catalog}.{db}.m4_daily_train')\n",
    "df = df.groupBy('unique_id').agg(collect_list('ds').alias('ds'), collect_list('y').alias('y'))\n",
    "display(df)"
   ]
  },
  {
   "cell_type": "markdown",
   "metadata": {
    "application/vnd.databricks.v1+cell": {
     "cellMetadata": {
      "byteLimit": 2048000,
      "rowLimit": 10000
     },
     "inputWidgets": {},
     "nuid": "543d0d30-4dad-40cd-9163-991984b2e4bd",
     "showTitle": false,
     "tableResultSettingsMap": {},
     "title": ""
    }
   },
   "source": [
    "## Distribute Inference\n",
    "We use [Pandas UDF](https://docs.databricks.com/en/udf/pandas.html#iterator-of-series-to-iterator-of-series-udf) to distribute the inference."
   ]
  },
  {
   "cell_type": "code",
   "execution_count": 0,
   "metadata": {
    "application/vnd.databricks.v1+cell": {
     "cellMetadata": {
      "byteLimit": 2048000,
      "rowLimit": 10000
     },
     "inputWidgets": {},
     "nuid": "800f3200-972b-4321-8e64-1159249de7ab",
     "showTitle": false,
     "tableResultSettingsMap": {},
     "title": ""
    }
   },
   "outputs": [],
   "source": [
    "import pandas as pd\n",
    "import numpy as np\n",
    "import torch\n",
    "from typing import Iterator\n",
    "from pyspark.sql.functions import pandas_udf\n",
    "\n",
    "# Function to create a Pandas UDF to generate horizon timestamps\n",
    "def create_get_horizon_timestamps(freq, prediction_length):\n",
    "    \"\"\"\n",
    "    Creates a Pandas UDF to generate future timestamps based on the given frequency and prediction length.\n",
    "\n",
    "    Parameters:\n",
    "    freq (str): Frequency of the timestamps ('M' for month-end, otherwise daily).\n",
    "    prediction_length (int): Number of future timestamps to generate.\n",
    "\n",
    "    Returns:\n",
    "    function: A Pandas UDF that generates an array of future timestamps for each input time series.\n",
    "    \"\"\"\n",
    "    \n",
    "    @pandas_udf('array<timestamp>')\n",
    "    def get_horizon_timestamps(batch_iterator: Iterator[pd.Series]) -> Iterator[pd.Series]:\n",
    "        # Determine the offset for the next timestamp based on the frequency\n",
    "        one_ts_offset = pd.offsets.MonthEnd(1) if freq == \"M\" else pd.DateOffset(days=1)\n",
    "        \n",
    "        barch_horizon_timestamps = []  # List to hold the arrays of future timestamps\n",
    "        \n",
    "        # Iterate over batches of input time series\n",
    "        for batch in batch_iterator:\n",
    "            for series in batch:\n",
    "                timestamp = last = series.max()  # Get the last timestamp in the series\n",
    "                horizon_timestamps = []  # List to hold future timestamps for the current series\n",
    "                \n",
    "                # Generate future timestamps\n",
    "                for i in range(prediction_length):\n",
    "                    timestamp = timestamp + one_ts_offset\n",
    "                    horizon_timestamps.append(timestamp.to_numpy())\n",
    "                \n",
    "                barch_horizon_timestamps.append(np.array(horizon_timestamps))\n",
    "        \n",
    "        yield pd.Series(barch_horizon_timestamps)  # Yield the result as a Pandas Series\n",
    "\n",
    "    return get_horizon_timestamps\n",
    "\n",
    "\n",
    "# Function to create a Pandas UDF to generate forecasts\n",
    "def create_forecast_udf(repository, prediction_length, num_samples, batch_size):\n",
    "    \"\"\"\n",
    "    Creates a Pandas UDF to generate forecasts using a pretrained model from the given repository.\n",
    "\n",
    "    Parameters:\n",
    "    repository (str): Path or identifier for the model repository.\n",
    "    prediction_length (int): Number of future values to predict.\n",
    "    num_samples (int): Number of samples to generate for each prediction.\n",
    "    batch_size (int): Number of time series to process in each batch.\n",
    "\n",
    "    Returns:\n",
    "    function: A Pandas UDF that generates an array of forecasted values for each input time series.\n",
    "    \"\"\"\n",
    "    \n",
    "    @pandas_udf('array<double>')\n",
    "    def forecast_udf(bulk_iterator: Iterator[pd.Series]) -> Iterator[pd.Series]:\n",
    "        \n",
    "        # Initialization step\n",
    "        import numpy as np\n",
    "        import pandas as pd\n",
    "        import torch\n",
    "        from chronos import BaseChronosPipeline\n",
    "        \n",
    "        # Load the pretrained model from the repository\n",
    "        pipeline = BaseChronosPipeline.from_pretrained(\n",
    "            repository,  # use \"amazon/chronos-bolt-small\" for the corresponding Chronos-Bolt model\n",
    "            device_map=\"cuda\",  # use \"cpu\" for CPU inference\n",
    "            torch_dtype=torch.bfloat16,\n",
    "            )\n",
    "\n",
    "        # Inference step\n",
    "        for bulk in bulk_iterator:\n",
    "            median = []  # List to hold the median forecast for each series\n",
    "            \n",
    "            # Process the time series in batches\n",
    "            for i in range(0, len(bulk), batch_size):\n",
    "                batch = bulk[i:i+batch_size]\n",
    "                contexts = [torch.tensor(list(series)) for series in batch]  # Convert series to tensors\n",
    "                \n",
    "                # Generate forecasts using the pretrained model\n",
    "                forecasts = pipeline.predict(context=contexts, prediction_length=prediction_length, num_samples=num_samples)\n",
    "                \n",
    "                # Calculate the median forecast for each series\n",
    "                median.extend([np.median(forecast, axis=0) for forecast in forecasts])\n",
    "            \n",
    "            yield pd.Series(median)  # Yield the result as a Pandas Series\n",
    "        \n",
    "    return forecast_udf\n"
   ]
  },
  {
   "cell_type": "markdown",
   "metadata": {
    "application/vnd.databricks.v1+cell": {
     "cellMetadata": {
      "byteLimit": 2048000,
      "rowLimit": 10000
     },
     "inputWidgets": {},
     "nuid": "03c19669-745c-4fa8-a9d3-4c398a5d02dd",
     "showTitle": false,
     "tableResultSettingsMap": {},
     "title": ""
    }
   },
   "source": [
    "We specify the requirements for our forecasts. "
   ]
  },
  {
   "cell_type": "code",
   "execution_count": 0,
   "metadata": {
    "application/vnd.databricks.v1+cell": {
     "cellMetadata": {
      "byteLimit": 2048000,
      "rowLimit": 10000
     },
     "inputWidgets": {},
     "nuid": "dcb453b4-f276-44a1-a376-82454fe7162f",
     "showTitle": false,
     "tableResultSettingsMap": {},
     "title": ""
    }
   },
   "outputs": [],
   "source": [
    "chronos_model = \"chronos-t5-tiny\"  # Alternatively: chronos-t5-mini, chronos-t5-small, chronos-t5-base, chronos-t5-large\n",
    "prediction_length = 10  # Time horizon for forecasting\n",
    "num_samples = 10  # Number of forecast to generate. We will take median as our final forecast.\n",
    "batch_size = 4  # Number of time series to process simultaneously\n",
    "freq = \"D\" # Frequency of the time series\n",
    "device_count = torch.cuda.device_count()  # Number of GPUs available"
   ]
  },
  {
   "cell_type": "markdown",
   "metadata": {
    "application/vnd.databricks.v1+cell": {
     "cellMetadata": {
      "byteLimit": 2048000,
      "rowLimit": 10000
     },
     "inputWidgets": {},
     "nuid": "99d644a1-77d0-4778-a997-8f2ca8a66bda",
     "showTitle": false,
     "tableResultSettingsMap": {},
     "title": ""
    }
   },
   "source": [
    "Let's generate the forecasts."
   ]
  },
  {
   "cell_type": "code",
   "execution_count": 0,
   "metadata": {
    "application/vnd.databricks.v1+cell": {
     "cellMetadata": {
      "byteLimit": 2048000,
      "rowLimit": 10000
     },
     "inputWidgets": {},
     "nuid": "0304cddf-6f1c-4c78-938d-a0928743d638",
     "showTitle": false,
     "tableResultSettingsMap": {},
     "title": ""
    }
   },
   "outputs": [],
   "source": [
    "# Create a Pandas UDF to generate horizon timestamps with the specified frequency and prediction length\n",
    "get_horizon_timestamps = create_get_horizon_timestamps(freq=freq, prediction_length=prediction_length)\n",
    "\n",
    "# Create a Pandas UDF to generate forecasts using a pretrained model from the specified repository\n",
    "forecast_udf = create_forecast_udf(\n",
    "    repository=f\"amazon/{chronos_model}\",  # Model repository path or identifier\n",
    "    prediction_length=prediction_length,   # Number of future values to predict\n",
    "    num_samples=num_samples,               # Number of samples to generate for each prediction\n",
    "    batch_size=batch_size,                 # Number of time series to process in each batch\n",
    ")\n",
    "\n",
    "# Apply the UDFs to the DataFrame and select the relevant columns\n",
    "forecasts = df.repartition(device_count).select(\n",
    "    df.unique_id,                             # Select the unique identifier for each time series\n",
    "    get_horizon_timestamps(df.ds).alias(\"ds\"), # Generate and alias the horizon timestamps for each series\n",
    "    forecast_udf(df.y).alias(\"forecast\")       # Generate and alias the forecasted values for each series\n",
    ")\n",
    "\n",
    "# Display the resulting DataFrame containing the forecasts\n",
    "display(forecasts)\n"
   ]
  },
  {
   "cell_type": "markdown",
   "metadata": {
    "application/vnd.databricks.v1+cell": {
     "cellMetadata": {
      "byteLimit": 2048000,
      "rowLimit": 10000
     },
     "inputWidgets": {},
     "nuid": "50cb0961-405b-4a9c-85d4-ca59a8ad09f7",
     "showTitle": false,
     "tableResultSettingsMap": {},
     "title": ""
    }
   },
   "source": [
    "##Register Model\n",
    "We will package our model using [`mlflow.pyfunc.PythonModel`](https://mlflow.org/docs/latest/python_api/mlflow.pyfunc.html) and register this in Unity Catalog."
   ]
  },
  {
   "cell_type": "code",
   "execution_count": 0,
   "metadata": {
    "application/vnd.databricks.v1+cell": {
     "cellMetadata": {
      "byteLimit": 2048000,
      "rowLimit": 10000
     },
     "inputWidgets": {},
     "nuid": "961ec3af-7da7-40e4-8e91-7a11d9072c9e",
     "showTitle": false,
     "tableResultSettingsMap": {},
     "title": ""
    }
   },
   "outputs": [],
   "source": [
    "import mlflow\n",
    "import torch\n",
    "import torchvision\n",
    "import cloudpickle\n",
    "import transformers\n",
    "import numpy as np\n",
    "from mlflow.models.signature import ModelSignature\n",
    "from mlflow.types import DataType, Schema, TensorSpec\n",
    "\n",
    "# Set the MLflow registry URI to use Databricks Unity Catalog\n",
    "mlflow.set_registry_uri(\"databricks-uc\")\n",
    "experiment_name = \"/Shared/chronos/\"\n",
    "\n",
    "# Define a custom MLflow model class for the Chronos pipeline\n",
    "class ChronosModel(mlflow.pyfunc.PythonModel):\n",
    "    def __init__(self, repository):\n",
    "        import torch\n",
    "        from chronos import BaseChronosPipeline\n",
    "        # Initialize the ChronosPipeline with a pretrained model from the specified repository\n",
    "        self.pipeline = BaseChronosPipeline.from_pretrained(\n",
    "            repository,         # use \"amazon/chronos-bolt-small\" for the corresponding Chronos-Bolt model\n",
    "            device_map=\"cuda\",  # use \"cpu\" for CPU inference\n",
    "            torch_dtype=torch.bfloat16,\n",
    "            )\n",
    "\n",
    "    def predict(self, context, input_data, params=None):\n",
    "        # Convert input data to a list of PyTorch tensors\n",
    "        history = [torch.tensor(list(series)) for series in input_data]\n",
    "        # Generate forecasts using the ChronosPipeline\n",
    "        forecast = self.pipeline.predict(\n",
    "            context=history,\n",
    "            prediction_length=10,  # Length of the prediction horizon\n",
    "            num_samples=10,        # Number of samples to generate\n",
    "        )\n",
    "        return forecast.numpy()  # Convert the forecast to a NumPy array\n",
    "\n",
    "# Instantiate the custom model with the specified repository\n",
    "pipeline = ChronosModel(f\"amazon/{chronos_model}\")\n",
    "\n",
    "# Define the input and output schema for the model signature\n",
    "input_schema = Schema([TensorSpec(np.dtype(np.double), (-1, -1))])      # Input: 2D array of doubles\n",
    "output_schema = Schema([TensorSpec(np.dtype(np.uint8), (-1, -1, -1))])  # Output: 3D array of unsigned 8-bit integers\n",
    "signature = ModelSignature(inputs=input_schema, outputs=output_schema)\n",
    "\n",
    "# Create an example input for the model (1 sample, 52 features)\n",
    "input_example = np.random.rand(1, 52)\n",
    "\n",
    "# Define the registered model name in the format: catalog.database.model_name\n",
    "registered_model_name = f\"{catalog}.{db}.{chronos_model}\"\n",
    "\n",
    "# set current experiment\n",
    "mlflow.set_experiment(experiment_name)\n",
    "\n",
    "# Log and register the model with MLflow\n",
    "with mlflow.start_run() as run:\n",
    "    mlflow.pyfunc.log_model(\n",
    "      \"model\",                         # Model artifact path\n",
    "      python_model=pipeline,           # Custom model class instance\n",
    "      registered_model_name=registered_model_name, # Name to register the model under\n",
    "      signature=signature,             # Model signature\n",
    "      input_example=input_example,     # Example input\n",
    "      pip_requirements=[               # List of pip requirements\n",
    "            \"torch==\" + torch.__version__.split(\"+\")[0],\n",
    "            \"torchvision==\" + torchvision.__version__.split(\"+\")[0],\n",
    "            \"transformers==\" + transformers.__version__,\n",
    "            \"cloudpickle==\" + cloudpickle.__version__,\n",
    "            \"chronos-forecasting\",\n",
    "        ],\n",
    "      )\n"
   ]
  },
  {
   "cell_type": "markdown",
   "metadata": {
    "application/vnd.databricks.v1+cell": {
     "cellMetadata": {
      "byteLimit": 2048000,
      "rowLimit": 10000
     },
     "inputWidgets": {},
     "nuid": "17a41eb2-1339-49b3-b98e-c9c60ff515f0",
     "showTitle": false,
     "tableResultSettingsMap": {},
     "title": ""
    }
   },
   "source": [
    "##Reload Model\n",
    "Once the registration is complete, we will reload the model and generate forecasts."
   ]
  },
  {
   "cell_type": "code",
   "execution_count": 0,
   "metadata": {
    "application/vnd.databricks.v1+cell": {
     "cellMetadata": {
      "byteLimit": 2048000,
      "rowLimit": 10000
     },
     "inputWidgets": {},
     "nuid": "730e0aa2-0733-4c96-9a7b-ad0afd75eb43",
     "showTitle": false,
     "tableResultSettingsMap": {},
     "title": ""
    }
   },
   "outputs": [],
   "source": [
    "from mlflow import MlflowClient\n",
    "client = MlflowClient()\n",
    "\n",
    "# Function to get the latest version of a registered model\n",
    "def get_latest_model_version(client, registered_model_name):\n",
    "    latest_version = 1  # Initialize the latest version to 1\n",
    "    # Iterate through all model versions for the given registered model name\n",
    "    for mv in client.search_model_versions(f\"name='{registered_model_name}'\"):\n",
    "        version_int = int(mv.version)  # Convert version string to integer\n",
    "        # Update the latest version if a higher version is found\n",
    "        if version_int > latest_version:\n",
    "            latest_version = version_int\n",
    "    return latest_version  # Return the latest version number\n",
    "\n",
    "# Get the latest version of the specified registered model\n",
    "model_version = get_latest_model_version(client, registered_model_name)\n",
    "# Construct the model URI using the registered model name and its latest version\n",
    "logged_model = f\"models:/{registered_model_name}/{model_version}\"\n",
    "\n",
    "# Load the model as a PyFuncModel from the specified URI\n",
    "loaded_model = mlflow.pyfunc.load_model(logged_model)\n",
    "\n",
    "# Create random input data (5 samples, each with 52 data points)\n",
    "input_data = np.random.rand(5, 52)  # (batch, series)\n",
    "\n",
    "# Generate forecasts using the loaded model\n",
    "loaded_model.predict(input_data)\n"
   ]
  },
  {
   "cell_type": "markdown",
   "metadata": {
    "application/vnd.databricks.v1+cell": {
     "cellMetadata": {
      "byteLimit": 2048000,
      "rowLimit": 10000
     },
     "inputWidgets": {},
     "nuid": "f2752c88-0e8f-497a-a56f-d8025fa91071",
     "showTitle": false,
     "tableResultSettingsMap": {},
     "title": ""
    }
   },
   "source": [
    "## Deploy Model\n",
    "We will deploy our model behind a real-time endpoint of [Databricks Mosaic AI Model Serving](https://www.databricks.com/product/model-serving)."
   ]
  },
  {
   "cell_type": "code",
   "execution_count": 0,
   "metadata": {
    "application/vnd.databricks.v1+cell": {
     "cellMetadata": {
      "byteLimit": 2048000,
      "rowLimit": 10000
     },
     "inputWidgets": {},
     "nuid": "581b9e89-9061-491c-9f41-588504089eb8",
     "showTitle": false,
     "tableResultSettingsMap": {},
     "title": ""
    }
   },
   "outputs": [],
   "source": [
    "# With the token, you can create our authorization header for our subsequent REST calls\n",
    "token = dbutils.notebook.entry_point.getDbutils().notebook().getContext().apiToken().getOrElse(None)\n",
    "headers = {\"Authorization\": f\"Bearer {token}\", \"Content-Type\": \"application/json\"}\n",
    "\n",
    "# Next you need an endpoint at which to execute your request which you can get from the notebook's tags collection\n",
    "java_tags = dbutils.notebook.entry_point.getDbutils().notebook().getContext().tags()\n",
    "\n",
    "# This object comes from the Java CM - Convert the Java Map opject to a Python dictionary\n",
    "tags = sc._jvm.scala.collection.JavaConverters.mapAsJavaMap(java_tags)\n",
    "\n",
    "# Lastly, extract the Databricks instance (domain name) from the dictionary\n",
    "instance = tags[\"browserHostName\"]"
   ]
  },
  {
   "cell_type": "code",
   "execution_count": 0,
   "metadata": {
    "application/vnd.databricks.v1+cell": {
     "cellMetadata": {
      "byteLimit": 2048000,
      "rowLimit": 10000
     },
     "inputWidgets": {},
     "nuid": "11e65c5c-b96a-4d4e-842c-b26aa06678bd",
     "showTitle": false,
     "tableResultSettingsMap": {},
     "title": ""
    }
   },
   "outputs": [],
   "source": [
    "import requests\n",
    "\n",
    "model_serving_endpoint_name = chronos_model\n",
    "\n",
    "# auto_capture_config specifies where the inference logs should be written\n",
    "my_json = {\n",
    "    \"name\": model_serving_endpoint_name,\n",
    "    \"config\": {\n",
    "        \"served_models\": [\n",
    "            {\n",
    "                \"model_name\": registered_model_name,\n",
    "                \"model_version\": model_version,\n",
    "                \"workload_type\": \"GPU_SMALL\",\n",
    "                \"workload_size\": \"Small\",\n",
    "                \"scale_to_zero_enabled\": \"true\",\n",
    "            }\n",
    "        ],\n",
    "        \"auto_capture_config\": {\n",
    "            \"catalog_name\": catalog,\n",
    "            \"schema_name\": db,\n",
    "            \"table_name_prefix\": model_serving_endpoint_name,\n",
    "        },\n",
    "    },\n",
    "}\n",
    "\n",
    "# Make sure to drop the inference table of it exists\n",
    "_ = spark.sql(\n",
    "    f\"DROP TABLE IF EXISTS {catalog}.{db}.`{model_serving_endpoint_name}_payload`\"\n",
    ")"
   ]
  },
  {
   "cell_type": "code",
   "execution_count": 0,
   "metadata": {
    "application/vnd.databricks.v1+cell": {
     "cellMetadata": {
      "byteLimit": 2048000,
      "rowLimit": 10000
     },
     "inputWidgets": {},
     "nuid": "07ce192d-b339-49c4-bb0c-6d13ac297905",
     "showTitle": false,
     "tableResultSettingsMap": {},
     "title": ""
    }
   },
   "outputs": [],
   "source": [
    "# Function to create an endpoint in Model Serving and deploy the model behind it\n",
    "def func_create_endpoint(model_serving_endpoint_name):\n",
    "    # get endpoint status\n",
    "    endpoint_url = f\"https://{instance}/api/2.0/serving-endpoints\"\n",
    "    url = f\"{endpoint_url}/{model_serving_endpoint_name}\"\n",
    "    r = requests.get(url, headers=headers)\n",
    "    if \"RESOURCE_DOES_NOT_EXIST\" in r.text:\n",
    "        print(\n",
    "            \"Creating this new endpoint: \",\n",
    "            f\"https://{instance}/serving-endpoints/{model_serving_endpoint_name}/invocations\",\n",
    "        )\n",
    "        re = requests.post(endpoint_url, headers=headers, json=my_json)\n",
    "    else:\n",
    "        new_model_version = (my_json[\"config\"])[\"served_models\"][0][\"model_version\"]\n",
    "        print(\n",
    "            \"This endpoint existed previously! We are updating it to a new config with new model version: \",\n",
    "            new_model_version,\n",
    "        )\n",
    "        # update config\n",
    "        url = f\"{endpoint_url}/{model_serving_endpoint_name}/config\"\n",
    "        re = requests.put(url, headers=headers, json=my_json[\"config\"])\n",
    "        # wait till new config file in place\n",
    "        import time, json\n",
    "\n",
    "        # get endpoint status\n",
    "        url = f\"https://{instance}/api/2.0/serving-endpoints/{model_serving_endpoint_name}\"\n",
    "        retry = True\n",
    "        total_wait = 0\n",
    "        while retry:\n",
    "            r = requests.get(url, headers=headers)\n",
    "            assert (\n",
    "                r.status_code == 200\n",
    "            ), f\"Expected an HTTP 200 response when accessing endpoint info, received {r.status_code}\"\n",
    "            endpoint = json.loads(r.text)\n",
    "            if \"pending_config\" in endpoint.keys():\n",
    "                seconds = 10\n",
    "                print(\"New config still pending\")\n",
    "                if total_wait < 6000:\n",
    "                    # if less the 10 mins waiting, keep waiting\n",
    "                    print(f\"Wait for {seconds} seconds\")\n",
    "                    print(f\"Total waiting time so far: {total_wait} seconds\")\n",
    "                    time.sleep(10)\n",
    "                    total_wait += seconds\n",
    "                else:\n",
    "                    print(f\"Stopping,  waited for {total_wait} seconds\")\n",
    "                    retry = False\n",
    "            else:\n",
    "                print(\"New config in place now!\")\n",
    "                retry = False\n",
    "\n",
    "    assert (\n",
    "        re.status_code == 200\n",
    "    ), f\"Expected an HTTP 200 response, received {re.status_code}\"\n",
    "\n",
    "# Function to delete the endpoint from Model Serving\n",
    "def func_delete_model_serving_endpoint(model_serving_endpoint_name):\n",
    "    endpoint_url = f\"https://{instance}/api/2.0/serving-endpoints\"\n",
    "    url = f\"{endpoint_url}/{model_serving_endpoint_name}\"\n",
    "    response = requests.delete(url, headers=headers)\n",
    "    if response.status_code != 200:\n",
    "        raise Exception(\n",
    "            f\"Request failed with status {response.status_code}, {response.text}\"\n",
    "        )\n",
    "    else:\n",
    "        print(model_serving_endpoint_name, \"endpoint is deleted!\")\n",
    "    return response.json()"
   ]
  },
  {
   "cell_type": "code",
   "execution_count": 0,
   "metadata": {
    "application/vnd.databricks.v1+cell": {
     "cellMetadata": {
      "byteLimit": 2048000,
      "rowLimit": 10000
     },
     "inputWidgets": {},
     "nuid": "419aedef-a005-47c6-acdc-bcbee4bb5e01",
     "showTitle": false,
     "tableResultSettingsMap": {},
     "title": ""
    }
   },
   "outputs": [],
   "source": [
    "# Create an endpoint. This may take some time.\n",
    "func_create_endpoint(model_serving_endpoint_name)"
   ]
  },
  {
   "cell_type": "code",
   "execution_count": 0,
   "metadata": {
    "application/vnd.databricks.v1+cell": {
     "cellMetadata": {
      "byteLimit": 2048000,
      "rowLimit": 10000
     },
     "inputWidgets": {},
     "nuid": "1673b309-e3aa-4b67-a723-cedb8db0fe5c",
     "showTitle": false,
     "tableResultSettingsMap": {},
     "title": ""
    }
   },
   "outputs": [],
   "source": [
    "import time, mlflow\n",
    "\n",
    "def wait_for_endpoint():\n",
    "    # Construct the base URL for the serving endpoints API\n",
    "    endpoint_url = f\"https://{instance}/api/2.0/serving-endpoints\"\n",
    "    \n",
    "    while True:\n",
    "        # Construct the URL for the specific model serving endpoint\n",
    "        url = f\"{endpoint_url}/{model_serving_endpoint_name}\"\n",
    "        \n",
    "        # Send a GET request to the endpoint URL\n",
    "        response = requests.get(url, headers=headers)\n",
    "        \n",
    "        # Assert that the response status code is 200 (OK)\n",
    "        assert (\n",
    "            response.status_code == 200\n",
    "        ), f\"Expected an HTTP 200 response, received {response.status_code}\\n{response.text}\"\n",
    "        \n",
    "        # Extract the status of the endpoint from the response\n",
    "        status = response.json().get(\"state\", {}).get(\"ready\", {})\n",
    "        \n",
    "        # If the endpoint is ready, print the status and return\n",
    "        if status == \"READY\":\n",
    "            print(status)\n",
    "            print(\"-\" * 80)\n",
    "            return\n",
    "        else:\n",
    "            # If the endpoint is not ready, print the status and wait for 5 minutes\n",
    "            print(f\"Endpoint not ready ({status}), waiting 5 minutes\")\n",
    "            time.sleep(300)  # Wait 300 seconds (5 minutes)\n",
    "\n",
    "# Get the API URL for the Databricks instance\n",
    "api_url = mlflow.utils.databricks_utils.get_webapp_url()\n",
    "\n",
    "# Call the function to wait for the endpoint to be ready\n",
    "wait_for_endpoint()\n"
   ]
  },
  {
   "cell_type": "markdown",
   "metadata": {
    "application/vnd.databricks.v1+cell": {
     "cellMetadata": {
      "byteLimit": 2048000,
      "rowLimit": 10000
     },
     "inputWidgets": {},
     "nuid": "a193c3ef-294c-4e62-89a6-c169042b7396",
     "showTitle": false,
     "tableResultSettingsMap": {},
     "title": ""
    }
   },
   "source": [
    "## Online Forecast\n",
    "Once the endpoint is ready, let's send a request to the model and generate an online forecast."
   ]
  },
  {
   "cell_type": "code",
   "execution_count": 0,
   "metadata": {
    "application/vnd.databricks.v1+cell": {
     "cellMetadata": {
      "byteLimit": 2048000,
      "rowLimit": 10000
     },
     "inputWidgets": {},
     "nuid": "e0581e16-a615-4f37-b1ff-6a7c6747d887",
     "showTitle": false,
     "tableResultSettingsMap": {},
     "title": ""
    }
   },
   "outputs": [],
   "source": [
    "import os\n",
    "import requests\n",
    "import pandas as pd\n",
    "import json\n",
    "import matplotlib.pyplot as plt\n",
    "\n",
    "# Replace URL with the endpoint invocation URL you get from the Model Serving page.\n",
    "endpoint_url = f\"https://{instance}/serving-endpoints/{model_serving_endpoint_name}/invocations\"\n",
    "\n",
    "# Get the Databricks API token\n",
    "token = dbutils.notebook.entry_point.getDbutils().notebook().getContext().apiToken().get()\n",
    "\n",
    "# Define a function to send input data to the model serving endpoint and get the forecast\n",
    "def forecast(input_data, url=endpoint_url, databricks_token=token):\n",
    "    # Set up the headers for the POST request, including the authorization token\n",
    "    headers = {\n",
    "        \"Authorization\": f\"Bearer {databricks_token}\",\n",
    "        \"Content-Type\": \"application/json\",\n",
    "    }\n",
    "    # Prepare the body of the request with the input data\n",
    "    body = {\"inputs\": input_data.tolist()}\n",
    "    # Convert the body to a JSON string\n",
    "    data = json.dumps(body)\n",
    "    # Send a POST request to the model serving endpoint\n",
    "    response = requests.request(method=\"POST\", headers=headers, url=url, data=data)\n",
    "    # Check if the response status code is not 200 (OK)\n",
    "    if response.status_code != 200:\n",
    "        # Raise an exception if the request failed\n",
    "        raise Exception(\n",
    "            f\"Request failed with status {response.status_code}, {response.text}\"\n",
    "        )\n",
    "    # Return the response JSON as a Python dictionary\n",
    "    return response.json()\n"
   ]
  },
  {
   "cell_type": "code",
   "execution_count": 0,
   "metadata": {
    "application/vnd.databricks.v1+cell": {
     "cellMetadata": {
      "byteLimit": 2048000,
      "rowLimit": 10000
     },
     "inputWidgets": {},
     "nuid": "f9f210a1-06dd-40dc-b401-5a9f8e263cc0",
     "showTitle": false,
     "tableResultSettingsMap": {},
     "title": ""
    }
   },
   "outputs": [],
   "source": [
    "# Send request to the endpoint\n",
    "input_data = np.random.rand(5, 52) # (batch, series)\n",
    "forecast(input_data)"
   ]
  },
  {
   "cell_type": "code",
   "execution_count": 0,
   "metadata": {
    "application/vnd.databricks.v1+cell": {
     "cellMetadata": {
      "byteLimit": 2048000,
      "rowLimit": 10000
     },
     "inputWidgets": {},
     "nuid": "9b4004fd-6a23-4b18-89a1-bdb2486d1465",
     "showTitle": false,
     "tableResultSettingsMap": {},
     "title": ""
    }
   },
   "outputs": [],
   "source": [
    "# Delete the serving endpoint\n",
    "func_delete_model_serving_endpoint(model_serving_endpoint_name)"
   ]
  },
  {
   "cell_type": "markdown",
   "metadata": {
    "application/vnd.databricks.v1+cell": {
     "cellMetadata": {
      "byteLimit": 2048000,
      "rowLimit": 10000
     },
     "inputWidgets": {},
     "nuid": "5a3aa9f0-1244-4363-98c4-966c07aae426",
     "showTitle": false,
     "tableResultSettingsMap": {},
     "title": ""
    }
   },
   "source": [
    "© 2024 Databricks, Inc. All rights reserved. \n",
    "\n",
    "The sources in all notebooks in this directory and the sub-directories are provided subject to the Databricks License. All included or referenced third party libraries are subject to the licenses set forth below."
   ]
  }
 ],
 "metadata": {
  "application/vnd.databricks.v1+notebook": {
   "computePreferences": {
    "hardware": {
     "accelerator": null,
     "gpuPoolId": null,
     "memory": null
    }
   },
   "dashboards": [],
   "environmentMetadata": {
    "base_environment": "",
    "environment_version": "3"
   },
   "inputWidgetPreferences": null,
   "language": "python",
   "notebookMetadata": {
    "pythonIndentUnit": 2
   },
   "notebookName": "01a_chronos_load_inference",
   "widgets": {}
  },
  "language_info": {
   "name": "python"
  }
 },
 "nbformat": 4,
 "nbformat_minor": 0
}
