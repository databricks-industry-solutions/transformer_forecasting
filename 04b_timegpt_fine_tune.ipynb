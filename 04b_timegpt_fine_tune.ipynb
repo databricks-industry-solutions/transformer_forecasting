{
 "cells": [
  {
   "cell_type": "markdown",
   "metadata": {
    "application/vnd.databricks.v1+cell": {
     "cellMetadata": {},
     "inputWidgets": {},
     "nuid": "b84946ed-2996-4de9-93e6-a0dd11340204",
     "showTitle": false,
     "tableResultSettingsMap": {},
     "title": ""
    }
   },
   "source": [
    "This is an example notebook that shows how to use Foundational Model Time-Series [TimeGPT](https://docs.nixtla.io/) models on Databricks and fine-tune it on the fly."
   ]
  },
  {
   "cell_type": "markdown",
   "metadata": {
    "application/vnd.databricks.v1+cell": {
     "cellMetadata": {},
     "inputWidgets": {},
     "nuid": "fbcc5829-f3cf-4d7b-81eb-a156da140d5a",
     "showTitle": false,
     "tableResultSettingsMap": {},
     "title": ""
    }
   },
   "source": [
    "### Pre-requisites to URL and API key for AzureAI\n",
    "Here are the prerequisites:\n",
    "1. Access the Azure portal for your Azure subscription.\n",
    "2. Create an Azure AI Studio hub.\n",
    "3. Once deployed, launch the Azure AI Studio and navigate to the model catalog.\n",
    "4. From the model catalog, select Nixtla's TimeGEN-1 forecasting model.\n",
    "5. Deploy the model to a project.  If you do not have a project, you can create a new one here.\n",
    "6. From the model deployment page, copy the Endpoint Target URI and Key for use below (once the endpoint has completed deployment)."
   ]
  },
  {
   "cell_type": "markdown",
   "metadata": {
    "application/vnd.databricks.v1+cell": {
     "cellMetadata": {},
     "inputWidgets": {},
     "nuid": "c07e1bf6-d04d-4ce4-87e5-08302b0bdce1",
     "showTitle": false,
     "tableResultSettingsMap": {},
     "title": ""
    }
   },
   "source": [
    "## Cluster setup\n",
    "\n",
    "TimeGPT is accessible through an API as a service, so the actual compute for inference or fine-tuning will not take place on Databricks. For this reason a GPU cluster is not necessary and we recommend using a cluster with [Databricks Runtime 16.4 LTS for ML](https://docs.databricks.com/en/release-notes/runtime/16.4lts-ml.html) or above with CPUs. This notebook will leverage [Pandas UDF](https://docs.databricks.com/en/udf/pandas.html) for distributing the inference tasks and utilizing all the available resource."
   ]
  },
  {
   "cell_type": "markdown",
   "metadata": {
    "application/vnd.databricks.v1+cell": {
     "cellMetadata": {},
     "inputWidgets": {},
     "nuid": "2c4f324a-9cad-4b2c-a96b-c858ecf98afe",
     "showTitle": false,
     "tableResultSettingsMap": {},
     "title": ""
    }
   },
   "source": [
    "## Install package"
   ]
  },
  {
   "cell_type": "code",
   "execution_count": 0,
   "metadata": {
    "application/vnd.databricks.v1+cell": {
     "cellMetadata": {},
     "inputWidgets": {},
     "nuid": "056f2687-bac5-4092-929a-ddc3d017e9f3",
     "showTitle": true,
     "tableResultSettingsMap": {},
     "title": "Import Libraries"
    }
   },
   "outputs": [],
   "source": [
    "%pip install nixtla --quiet\n",
    "%pip install --upgrade mlflow --quiet\n",
    "dbutils.library.restartPython()"
   ]
  },
  {
   "cell_type": "markdown",
   "metadata": {
    "application/vnd.databricks.v1+cell": {
     "cellMetadata": {},
     "inputWidgets": {},
     "nuid": "d5797f9b-f37f-4cff-90fb-12843da4fa9e",
     "showTitle": false,
     "tableResultSettingsMap": {},
     "title": ""
    }
   },
   "source": [
    "##Set the logging level"
   ]
  },
  {
   "cell_type": "code",
   "execution_count": 0,
   "metadata": {
    "application/vnd.databricks.v1+cell": {
     "cellMetadata": {},
     "inputWidgets": {},
     "nuid": "c82e79de-ab2e-4534-bbdd-0e3b9061f239",
     "showTitle": false,
     "tableResultSettingsMap": {},
     "title": ""
    }
   },
   "outputs": [],
   "source": [
    "import logging\n",
    "\n",
    "# Setting the logging level to ERROR for the \"py4j.java_gateway\" logger\n",
    "# This reduces the verbosity of the logs by only showing error messages\n",
    "logging.getLogger(\"py4j.java_gateway\").setLevel(logging.ERROR)\n",
    "logging.getLogger(\"py4j.clientserver\").setLevel(logging.ERROR)"
   ]
  },
  {
   "cell_type": "markdown",
   "metadata": {
    "application/vnd.databricks.v1+cell": {
     "cellMetadata": {},
     "inputWidgets": {},
     "nuid": "b3214b5c-7f31-401c-8404-f6c4e1b4f2ed",
     "showTitle": false,
     "tableResultSettingsMap": {},
     "title": ""
    }
   },
   "source": [
    "## Record the TimeGen-1 Endpoint Target URI"
   ]
  },
  {
   "cell_type": "code",
   "execution_count": 0,
   "metadata": {
    "application/vnd.databricks.v1+cell": {
     "cellMetadata": {},
     "inputWidgets": {},
     "nuid": "e0fcd103-0890-44b0-bd48-3c9b2276c9f0",
     "showTitle": false,
     "tableResultSettingsMap": {},
     "title": ""
    }
   },
   "outputs": [],
   "source": [
    "model_url = '<input timegen-1 endpoint uri here>'"
   ]
  },
  {
   "cell_type": "markdown",
   "metadata": {
    "application/vnd.databricks.v1+cell": {
     "cellMetadata": {},
     "inputWidgets": {},
     "nuid": "fe53c94b-78a9-4ce6-9cd2-3df5693993af",
     "showTitle": false,
     "tableResultSettingsMap": {},
     "title": ""
    }
   },
   "source": [
    "## Add the API key as a secret"
   ]
  },
  {
   "cell_type": "code",
   "execution_count": 0,
   "metadata": {
    "application/vnd.databricks.v1+cell": {
     "cellMetadata": {},
     "inputWidgets": {},
     "nuid": "1caac6fc-9a96-4f10-8042-c6447757ede1",
     "showTitle": false,
     "tableResultSettingsMap": {},
     "title": ""
    }
   },
   "outputs": [],
   "source": [
    "key_name = \"api_key\"\n",
    "scope_name = \"time-gpt\""
   ]
  },
  {
   "cell_type": "markdown",
   "metadata": {
    "application/vnd.databricks.v1+cell": {
     "cellMetadata": {},
     "inputWidgets": {},
     "nuid": "762ef06b-b5e1-4633-9e48-9d6247ef6c3c",
     "showTitle": false,
     "tableResultSettingsMap": {},
     "title": ""
    }
   },
   "source": [
    "If this is your first time running the notebook and you still don't have your credential managed in the secret, uncomment and run the following cell. Read more about Databricks secrets management [here](https://docs.databricks.com/en/security/secrets/index.html)."
   ]
  },
  {
   "cell_type": "code",
   "execution_count": 0,
   "metadata": {
    "application/vnd.databricks.v1+cell": {
     "cellMetadata": {},
     "inputWidgets": {},
     "nuid": "3aa33767-8299-4cc5-bb32-b7836395e0df",
     "showTitle": false,
     "tableResultSettingsMap": {},
     "title": ""
    }
   },
   "outputs": [],
   "source": [
    "from databricks.sdk import WorkspaceClient\n",
    "\n",
    "w = WorkspaceClient()\n",
    "\n",
    "# put the key in secret\n",
    "try: \n",
    "  w.secrets.create_scope(scope=scope_name)\n",
    "except:\n",
    "  pass\n",
    "w.secrets.put_secret(scope=scope_name, key=key_name, string_value='<input timegen-1 api key here>')"
   ]
  },
  {
   "cell_type": "markdown",
   "metadata": {
    "application/vnd.databricks.v1+cell": {
     "cellMetadata": {},
     "inputWidgets": {},
     "nuid": "98de12f5-55ef-4d64-86c9-da7dae0854cc",
     "showTitle": false,
     "tableResultSettingsMap": {},
     "title": ""
    }
   },
   "source": [
    "## Prepare data \n",
    "We use [`datasetsforecast`](https://github.com/Nixtla/datasetsforecast/tree/main/) package to download M4 data. M4 dataset contains a set of time series which we use for testing. See the `data_preparation` notebook for a number of custom functions we wrote to convert M4 time series to an expected format.\n",
    "\n",
    "Make sure that the catalog and the schema already exist."
   ]
  },
  {
   "cell_type": "code",
   "execution_count": 0,
   "metadata": {
    "application/vnd.databricks.v1+cell": {
     "cellMetadata": {},
     "inputWidgets": {},
     "nuid": "6b1169a9-e296-4d79-979a-d573e2e5ceae",
     "showTitle": false,
     "tableResultSettingsMap": {},
     "title": ""
    }
   },
   "outputs": [],
   "source": [
    "catalog = \"tsfm\"  # Name of the catalog we use to manage our assets\n",
    "db = \"m4\"  # Name of the schema we use to manage our assets (e.g. datasets)\n",
    "n = 10  # Number of time series to sample"
   ]
  },
  {
   "cell_type": "code",
   "execution_count": 0,
   "metadata": {
    "application/vnd.databricks.v1+cell": {
     "cellMetadata": {},
     "inputWidgets": {},
     "nuid": "972e05d8-c566-4c09-8bea-e358ea416eac",
     "showTitle": false,
     "tableResultSettingsMap": {},
     "title": ""
    }
   },
   "outputs": [],
   "source": [
    "# This cell runs the notebook ../data_preparation and creates the following tables with M4 data: \n",
    "# 1. {catalog}.{db}.m4_daily_train, \n",
    "# 2. {catalog}.{db}.m4_monthly_train\n",
    "dbutils.notebook.run(\"./99_data_preparation\", timeout_seconds=0, arguments={\"catalog\": catalog, \"db\": db, \"n\": n})"
   ]
  },
  {
   "cell_type": "code",
   "execution_count": 0,
   "metadata": {
    "application/vnd.databricks.v1+cell": {
     "cellMetadata": {},
     "inputWidgets": {},
     "nuid": "68894bd8-eb4c-48bb-a353-71a5ca6000f9",
     "showTitle": false,
     "tableResultSettingsMap": {},
     "title": ""
    }
   },
   "outputs": [],
   "source": [
    "from pyspark.sql.functions import collect_list,size\n",
    "\n",
    "# Make sure that the data exists\n",
    "df = spark.table(f'{catalog}.{db}.m4_daily_train')\n",
    "df = df.groupBy('unique_id').agg(collect_list('ds').alias('ds'), collect_list('y').alias('y'))\n",
    "df = df.filter(size(df.ds) >= 300)\n",
    "display(df)"
   ]
  },
  {
   "cell_type": "markdown",
   "metadata": {
    "application/vnd.databricks.v1+cell": {
     "cellMetadata": {},
     "inputWidgets": {},
     "nuid": "11cc2472-38f0-452e-96f2-c45ae2c471f5",
     "showTitle": false,
     "tableResultSettingsMap": {},
     "title": ""
    }
   },
   "source": [
    "## Distribute Fine-Tuning and Inference\n",
    "We use [Pandas UDF](https://docs.databricks.com/en/udf/pandas.html#iterator-of-series-to-iterator-of-series-udf) to distribute fine-tuning and inference."
   ]
  },
  {
   "cell_type": "code",
   "execution_count": 0,
   "metadata": {
    "application/vnd.databricks.v1+cell": {
     "cellMetadata": {},
     "inputWidgets": {},
     "nuid": "a733fffe-379d-407d-9abb-46dcbb1998f8",
     "showTitle": false,
     "tableResultSettingsMap": {},
     "title": ""
    }
   },
   "outputs": [],
   "source": [
    "import pandas as pd\n",
    "import numpy as np\n",
    "import torch\n",
    "from typing import Iterator, Tuple\n",
    "from pyspark.sql.functions import pandas_udf\n",
    "\n",
    "## Function to create a Pandas UDF to fine-tune and generate forecasts given a time series history\n",
    "def create_forecast_udf(model_url, api_key, prediction_length=12, ft_steps=10):\n",
    "\n",
    "  # Define the Pandas UDF with the specified output schema\n",
    "  @pandas_udf('struct<timestamp:array<string>,forecast:array<double>>')\n",
    "  def forecast_udf(iterator: Iterator[Tuple[pd.Series, pd.Series]]) -> Iterator[pd.DataFrame]:\n",
    "    \n",
    "    ## Initialization step\n",
    "    import numpy as np\n",
    "    import pandas as pd\n",
    "    from nixtla import NixtlaClient  # Import NixtlaClient from the nixtla library\n",
    "\n",
    "    # Initialize the NixtlaClient with the provided model URL and API key\n",
    "    model = NixtlaClient(\n",
    "      base_url=model_url,\n",
    "      api_key=api_key)\n",
    "\n",
    "    ## Inference step\n",
    "    for timeseries, past_values in iterator:\n",
    "      median = []  # Initialize a list to store the forecast results\n",
    "      for ts, y in zip(timeseries, past_values):\n",
    "        # Create a DataFrame from the time series and past values\n",
    "        tdf = pd.DataFrame({\"timestamp\": ts,\n",
    "                            \"value\": y})\n",
    "        \n",
    "        # Generate a forecast using the NixtlaClient model with fine-tuning\n",
    "        pred = model.forecast(\n",
    "          df=tdf,\n",
    "          h=prediction_length,  # Horizon length for the forecast\n",
    "          finetune_steps=ft_steps,  # Number of fine-tuning steps\n",
    "          time_col=\"timestamp\",  # Column name for timestamps\n",
    "          target_col=\"value\")  # Column name for target values\n",
    "\n",
    "        # Append the forecast results to the median list\n",
    "        median.append({'timestamp': list(pred['timestamp'].astype(str).values),\n",
    "                       'forecast': list(pred['TimeGPT'].values)})\n",
    "    # Yield the results as a pandas DataFrame\n",
    "    yield pd.DataFrame(median)  \n",
    "    \n",
    "  return forecast_udf  # Return the forecast UDF\n"
   ]
  },
  {
   "cell_type": "markdown",
   "metadata": {
    "application/vnd.databricks.v1+cell": {
     "cellMetadata": {},
     "inputWidgets": {},
     "nuid": "16499af7-ee12-4edd-82ff-8db9bf6f7ba3",
     "showTitle": false,
     "tableResultSettingsMap": {},
     "title": ""
    }
   },
   "source": [
    "We specify the requirements of our forecasts. "
   ]
  },
  {
   "cell_type": "code",
   "execution_count": 0,
   "metadata": {
    "application/vnd.databricks.v1+cell": {
     "cellMetadata": {},
     "inputWidgets": {},
     "nuid": "2b26a348-3198-4094-8018-799350a36705",
     "showTitle": false,
     "tableResultSettingsMap": {},
     "title": ""
    }
   },
   "outputs": [],
   "source": [
    "prediction_length = 10  # Time horizon for forecasting\n",
    "ft_steps = 10  # Number of training interations to perform for fientuning\n",
    "api_key = dbutils.secrets.get(scope =scope_name,key = key_name)\n",
    "freq = \"D\" # Frequency of the time series"
   ]
  },
  {
   "cell_type": "markdown",
   "metadata": {
    "application/vnd.databricks.v1+cell": {
     "cellMetadata": {},
     "inputWidgets": {},
     "nuid": "135ace98-4c85-422f-a045-e2425ade8f7e",
     "showTitle": false,
     "tableResultSettingsMap": {},
     "title": ""
    }
   },
   "source": [
    "Let's fine-tune and generate forecasts."
   ]
  },
  {
   "cell_type": "code",
   "execution_count": 0,
   "metadata": {
    "application/vnd.databricks.v1+cell": {
     "cellMetadata": {},
     "inputWidgets": {},
     "nuid": "ebbced4c-2aef-48f7-8c1c-e99a285fafd7",
     "showTitle": false,
     "tableResultSettingsMap": {},
     "title": ""
    }
   },
   "outputs": [],
   "source": [
    "# Create a forecast UDF using the specified model URL and API key\n",
    "forecast_udf = create_forecast_udf(\n",
    "  model_url=model_url,  # URL of the pre-trained model\n",
    "  api_key=api_key,  # API key for authentication\n",
    ")\n",
    "\n",
    "# Apply the forecast UDF to the DataFrame\n",
    "forecasts = df.select(\n",
    "  df.unique_id,  # Select the unique_id column from the DataFrame\n",
    "  forecast_udf(\"ds\", \"y\").alias(\"forecast\"),  # Apply the forecast UDF to the ds (timestamp) and y (value) columns, alias the result as \"forecast\"\n",
    ").select(\n",
    "  \"unique_id\",  # Select the unique_id column\n",
    "  \"forecast.timestamp\",  # Select the timestamp array from the forecast struct\n",
    "  \"forecast.forecast\"  # Select the forecast array from the forecast struct\n",
    ")\n",
    "\n",
    "# Display the resulting DataFrame with the forecasts\n",
    "display(forecasts)\n"
   ]
  },
  {
   "cell_type": "markdown",
   "metadata": {
    "application/vnd.databricks.v1+cell": {
     "cellMetadata": {},
     "inputWidgets": {},
     "nuid": "42f87328-1ff7-4509-8cc5-dfd79098cfd8",
     "showTitle": false,
     "tableResultSettingsMap": {},
     "title": ""
    }
   },
   "source": [
    "##Register Model\n",
    "We will package our model using [`mlflow.pyfunc.PythonModel`](https://mlflow.org/docs/latest/python_api/mlflow.pyfunc.html) and register this in Unity Catalog."
   ]
  },
  {
   "cell_type": "code",
   "execution_count": 0,
   "metadata": {
    "application/vnd.databricks.v1+cell": {
     "cellMetadata": {},
     "inputWidgets": {},
     "nuid": "540fb2fa-da76-4574-8f54-e6ecb8034202",
     "showTitle": false,
     "tableResultSettingsMap": {},
     "title": ""
    }
   },
   "outputs": [],
   "source": [
    "import mlflow\n",
    "import torch\n",
    "import numpy as np\n",
    "from mlflow.models.signature import ModelSignature\n",
    "from mlflow.types import DataType, Schema, TensorSpec ,ColSpec, ParamSpec,ParamSchema\n",
    "\n",
    "mlflow.set_registry_uri(\"databricks-uc\")  # Set the MLflow registry URI to Databricks Unity Catalog.\n",
    "experiment_name = \"/Shared/timegpt/\"\n",
    "\n",
    "# Define a custom MLflow Python model class for TimeGPTPipeline\n",
    "class TimeGPTPipeline(mlflow.pyfunc.PythonModel):\n",
    "  def __init__(self, model_url, api_key):\n",
    "    import numpy as np\n",
    "    import pandas as pd\n",
    "    from nixtla import NixtlaClient  # Import NixtlaClient from the nixtla library\n",
    "    self.model_url = model_url  # Store the model URL\n",
    "    self.api_key = api_key  # Store the API key\n",
    "  \n",
    "  def predict(self, context, input_data, params=None):\n",
    "    from nixtla import NixtlaClient  # Import NixtlaClient from the nixtla library\n",
    "    # Initialize the NixtlaClient with the stored model URL and API key\n",
    "    model = NixtlaClient(\n",
    "        base_url=self.model_url,\n",
    "        api_key=self.api_key)\n",
    "    \n",
    "    # Generate a forecast using the NixtlaClient model with fine-tuning steps\n",
    "    pred = model.forecast(\n",
    "              df=input_data,\n",
    "              h=params['h'],  # Use the horizon length from the params\n",
    "              finetune_steps=params['finetune_steps'],  # Use the fine-tuning steps from the params\n",
    "              time_col=\"timestamp\",\n",
    "              target_col=\"value\")\n",
    "    # Rename the forecast column to 'forecast'\n",
    "    pred.rename(columns={'TimeGPT': 'forecast'},\n",
    "                inplace=True)\n",
    "    return pred  # Return the prediction DataFrame\n",
    "\n",
    "# Initialize the custom TimeGPTPipeline with the specified model URL and API key\n",
    "pipeline = TimeGPTPipeline(model_url=model_url, api_key=api_key)\n",
    "\n",
    "# Define the input and output schema for the model\n",
    "input_schema = Schema([ColSpec.from_json_dict(**{\"type\": \"datetime\", \"name\": \"timestamp\", \"required\": True}),\n",
    "                       ColSpec.from_json_dict(**{\"type\": \"double\", \"name\": \"value\", \"required\": True})])\n",
    "output_schema = Schema([ColSpec.from_json_dict(**{\"type\": \"datetime\", \"name\": \"timestamp\", \"required\": True}),\n",
    "                        ColSpec.from_json_dict(**{\"type\": \"double\", \"name\": \"forecast\", \"required\": True})])\n",
    "param_schema = ParamSchema([ParamSpec.from_json_dict(**{\"type\": \"integer\", \"name\": \"h\", \"default\": 12}),\n",
    "                            ParamSpec.from_json_dict(**{\"type\": \"integer\", \"name\": \"finetune_steps\", \"default\": 10})])\n",
    "# Create a ModelSignature object to represent the input, output, and parameter schema\n",
    "signature = ModelSignature(inputs=input_schema, outputs=output_schema, params=param_schema)\n",
    "\n",
    "# Define the registered model name using variables for catalog and database\n",
    "registered_model_name = f\"{catalog}.{db}.timegpt_finetuned\"\n",
    "\n",
    "# Filter the DataFrame to get records with the specified unique_id and convert to a pandas DataFrame\n",
    "pdf = df.filter(df.unique_id == 'D7').toPandas()\n",
    "pdf = {\n",
    "  \"timestamp\": list(pdf['ds'][0]),\n",
    "  \"value\": list(pdf['y'][0])\n",
    "}\n",
    "pdf = pd.DataFrame(pdf)\n",
    "\n",
    "# set current experiment\n",
    "mlflow.set_experiment(experiment_name)\n",
    "\n",
    "# Log and register the model with MLflow\n",
    "with mlflow.start_run() as run:\n",
    "  mlflow.pyfunc.log_model(\n",
    "    \"model\",  # The artifact path where the model is logged\n",
    "    python_model=pipeline,  # The custom Python model to log\n",
    "    registered_model_name=registered_model_name,  # The name to register the model under\n",
    "    signature=signature,  # The model signature\n",
    "    input_example=pdf,  # An example input to log with the model\n",
    "    pip_requirements=[\n",
    "      \"nixtla\"  # Python package requirements\n",
    "    ]\n",
    "  )"
   ]
  },
  {
   "cell_type": "markdown",
   "metadata": {
    "application/vnd.databricks.v1+cell": {
     "cellMetadata": {},
     "inputWidgets": {},
     "nuid": "b927401e-c79e-4642-baba-cc8a0d50756f",
     "showTitle": false,
     "tableResultSettingsMap": {},
     "title": ""
    }
   },
   "source": [
    "##Reload Model\n",
    "Once the registration is complete, we will reload the model and generate forecasts."
   ]
  },
  {
   "cell_type": "code",
   "execution_count": 0,
   "metadata": {
    "application/vnd.databricks.v1+cell": {
     "cellMetadata": {},
     "inputWidgets": {},
     "nuid": "6091465f-e059-48b8-b8b8-d0750c8192fe",
     "showTitle": false,
     "tableResultSettingsMap": {},
     "title": ""
    }
   },
   "outputs": [],
   "source": [
    "from mlflow import MlflowClient\n",
    "mlflow_client = MlflowClient()\n",
    "\n",
    "# Define a function to get the latest version number of a registered model\n",
    "def get_latest_model_version(mlflow_client, registered_model_name):\n",
    "    latest_version = 1  # Initialize the latest version number to 1\n",
    "    # Iterate through all model versions of the specified registered model\n",
    "    for mv in mlflow_client.search_model_versions(f\"name='{registered_model_name}'\"):\n",
    "        version_int = int(mv.version)  # Convert the version number to an integer\n",
    "        if version_int > latest_version:  # Check if the current version is greater than the latest version\n",
    "            latest_version = version_int  # Update the latest version number\n",
    "    return latest_version  # Return the latest version number\n",
    "\n",
    "# Get the latest version number of the specified registered model\n",
    "model_version = get_latest_model_version(mlflow_client, registered_model_name)\n",
    "# Construct the model URI using the registered model name and the latest version number\n",
    "logged_model = f\"models:/{registered_model_name}/{model_version}\"\n",
    "\n",
    "# Load the model as a PyFuncModel using the constructed model URI\n",
    "loaded_model = mlflow.pyfunc.load_model(logged_model)\n"
   ]
  },
  {
   "cell_type": "markdown",
   "metadata": {
    "application/vnd.databricks.v1+cell": {
     "cellMetadata": {},
     "inputWidgets": {},
     "nuid": "22809864-4d43-489f-980c-1a7a0b7aa378",
     "showTitle": false,
     "tableResultSettingsMap": {},
     "title": ""
    }
   },
   "source": [
    "###Test the endpoint before deployment"
   ]
  },
  {
   "cell_type": "code",
   "execution_count": 0,
   "metadata": {
    "application/vnd.databricks.v1+cell": {
     "cellMetadata": {},
     "inputWidgets": {},
     "nuid": "b747cb1e-7501-4c33-b031-5a95bb0e5e19",
     "showTitle": false,
     "tableResultSettingsMap": {},
     "title": ""
    }
   },
   "outputs": [],
   "source": [
    "# Test the endpoint before deployment\n",
    "loaded_model.predict(pdf,params = {'h' :20})"
   ]
  },
  {
   "cell_type": "markdown",
   "metadata": {
    "application/vnd.databricks.v1+cell": {
     "cellMetadata": {},
     "inputWidgets": {},
     "nuid": "4a4af67e-ac33-4749-b38f-deba39f8a53c",
     "showTitle": false,
     "tableResultSettingsMap": {},
     "title": ""
    }
   },
   "source": [
    "## Deploy Model\n",
    "We will deploy our model behind a real-time endpoint of [Databricks Mosaic AI Model Serving](https://www.databricks.com/product/model-serving)."
   ]
  },
  {
   "cell_type": "code",
   "execution_count": 0,
   "metadata": {
    "application/vnd.databricks.v1+cell": {
     "cellMetadata": {},
     "inputWidgets": {},
     "nuid": "e6948c6d-d58c-4fbd-86ae-19b1a55823d3",
     "showTitle": false,
     "tableResultSettingsMap": {},
     "title": ""
    }
   },
   "outputs": [],
   "source": [
    "# With the token, you can create our authorization header for our subsequent REST calls\n",
    "token = dbutils.notebook.entry_point.getDbutils().notebook().getContext().apiToken().getOrElse(None)\n",
    "headers = {\"Authorization\": f\"Bearer {token}\", \"Content-Type\": \"application/json\"}\n",
    "\n",
    "# Next you need an endpoint at which to execute your request which you can get from the notebook's tags collection\n",
    "java_tags = dbutils.notebook.entry_point.getDbutils().notebook().getContext().tags()\n",
    "\n",
    "# This object comes from the Java CM - Convert the Java Map opject to a Python dictionary\n",
    "tags = sc._jvm.scala.collection.JavaConversions.mapAsJavaMap(java_tags)\n",
    "\n",
    "# Lastly, extract the Databricks instance (domain name) from the dictionary\n",
    "instance = tags[\"browserHostName\"]"
   ]
  },
  {
   "cell_type": "code",
   "execution_count": 0,
   "metadata": {
    "application/vnd.databricks.v1+cell": {
     "cellMetadata": {},
     "inputWidgets": {},
     "nuid": "be9e4af6-4091-458d-b989-dd809d3dffbe",
     "showTitle": false,
     "tableResultSettingsMap": {},
     "title": ""
    }
   },
   "outputs": [],
   "source": [
    "import requests\n",
    "\n",
    "model_serving_endpoint_name = \"timegpt_finetuned\"\n",
    "\n",
    "my_json = {\n",
    "    \"name\": model_serving_endpoint_name,\n",
    "    \"config\": {\n",
    "        \"served_models\": [\n",
    "            {\n",
    "                \"model_name\": registered_model_name,\n",
    "                \"model_version\": model_version,\n",
    "                \"workload_type\": \"CPU_SMALL\",\n",
    "                \"workload_size\": \"Small\",\n",
    "                \"scale_to_zero_enabled\": \"true\",\n",
    "            }\n",
    "        ],\n",
    "        \"auto_capture_config\": {\n",
    "            \"catalog_name\": catalog,\n",
    "            \"schema_name\": db,\n",
    "            \"table_name_prefix\": model_serving_endpoint_name,\n",
    "        },\n",
    "    },\n",
    "}\n",
    "\n",
    "# Make sure to drop the inference table of it exists\n",
    "_ = spark.sql(\n",
    "    f\"DROP TABLE IF EXISTS {catalog}.{db}.`{model_serving_endpoint_name}_payload`\"\n",
    ")"
   ]
  },
  {
   "cell_type": "code",
   "execution_count": 0,
   "metadata": {
    "application/vnd.databricks.v1+cell": {
     "cellMetadata": {},
     "inputWidgets": {},
     "nuid": "4d3f6ab3-3db3-4502-9289-bab79ccbce46",
     "showTitle": false,
     "tableResultSettingsMap": {},
     "title": ""
    }
   },
   "outputs": [],
   "source": [
    "# Function to create an endpoint in Model Serving and deploy the model behind it\n",
    "def func_create_endpoint(model_serving_endpoint_name):\n",
    "    # get endpoint status\n",
    "    endpoint_url = f\"https://{instance}/api/2.0/serving-endpoints\"\n",
    "    url = f\"{endpoint_url}/{model_serving_endpoint_name}\"\n",
    "    r = requests.get(url, headers=headers)\n",
    "    if \"RESOURCE_DOES_NOT_EXIST\" in r.text:\n",
    "        print(\n",
    "            \"Creating this new endpoint: \",\n",
    "            f\"https://{instance}/serving-endpoints/{model_serving_endpoint_name}/invocations\",\n",
    "        )\n",
    "        re = requests.post(endpoint_url, headers=headers, json=my_json)\n",
    "    else:\n",
    "        new_model_version = (my_json[\"config\"])[\"served_models\"][0][\"model_version\"]\n",
    "        print(\n",
    "            \"This endpoint existed previously! We are updating it to a new config with new model version: \",\n",
    "            new_model_version,\n",
    "        )\n",
    "        # update config\n",
    "        url = f\"{endpoint_url}/{model_serving_endpoint_name}/config\"\n",
    "        re = requests.put(url, headers=headers, json=my_json[\"config\"])\n",
    "        # wait till new config file in place\n",
    "        import time, json\n",
    "\n",
    "        # get endpoint status\n",
    "        url = f\"https://{instance}/api/2.0/serving-endpoints/{model_serving_endpoint_name}\"\n",
    "        retry = True\n",
    "        total_wait = 0\n",
    "        while retry:\n",
    "            r = requests.get(url, headers=headers)\n",
    "            assert (\n",
    "                r.status_code == 200\n",
    "            ), f\"Expected an HTTP 200 response when accessing endpoint info, received {r.status_code}\"\n",
    "            endpoint = json.loads(r.text)\n",
    "            if \"pending_config\" in endpoint.keys():\n",
    "                seconds = 10\n",
    "                print(\"New config still pending\")\n",
    "                if total_wait < 6000:\n",
    "                    # if less the 10 mins waiting, keep waiting\n",
    "                    print(f\"Wait for {seconds} seconds\")\n",
    "                    print(f\"Total waiting time so far: {total_wait} seconds\")\n",
    "                    time.sleep(10)\n",
    "                    total_wait += seconds\n",
    "                else:\n",
    "                    print(f\"Stopping,  waited for {total_wait} seconds\")\n",
    "                    retry = False\n",
    "            else:\n",
    "                print(\"New config in place now!\")\n",
    "                retry = False\n",
    "\n",
    "    assert (\n",
    "        re.status_code == 200\n",
    "    ), f\"Expected an HTTP 200 response, received {re.status_code}\"\n",
    "\n",
    "# Function to delete the endpoint from Model Serving\n",
    "def func_delete_model_serving_endpoint(model_serving_endpoint_name):\n",
    "    endpoint_url = f\"https://{instance}/api/2.0/serving-endpoints\"\n",
    "    url = f\"{endpoint_url}/{model_serving_endpoint_name}\"\n",
    "    response = requests.delete(url, headers=headers)\n",
    "    if response.status_code != 200:\n",
    "        raise Exception(\n",
    "            f\"Request failed with status {response.status_code}, {response.text}\"\n",
    "        )\n",
    "    else:\n",
    "        print(model_serving_endpoint_name, \"endpoint is deleted!\")\n",
    "    return response.json()"
   ]
  },
  {
   "cell_type": "code",
   "execution_count": 0,
   "metadata": {
    "application/vnd.databricks.v1+cell": {
     "cellMetadata": {},
     "inputWidgets": {},
     "nuid": "e9432a31-c8ca-4f4e-8fd8-926dabcc9107",
     "showTitle": false,
     "tableResultSettingsMap": {},
     "title": ""
    }
   },
   "outputs": [],
   "source": [
    "func_create_endpoint(model_serving_endpoint_name)"
   ]
  },
  {
   "cell_type": "code",
   "execution_count": 0,
   "metadata": {
    "application/vnd.databricks.v1+cell": {
     "cellMetadata": {},
     "inputWidgets": {},
     "nuid": "89cda455-1441-493a-940e-7177590d0d7a",
     "showTitle": false,
     "tableResultSettingsMap": {},
     "title": ""
    }
   },
   "outputs": [],
   "source": [
    "import time\n",
    "import mlflow\n",
    "\n",
    "# Define a function to wait for a serving endpoint to be ready\n",
    "def wait_for_endpoint():\n",
    "    endpoint_url = f\"https://{instance}/api/2.0/serving-endpoints\"  # Construct the base URL for the serving endpoints API using the instance variable\n",
    "    while True:  # Infinite loop to repeatedly check the status of the endpoint\n",
    "        url = f\"{endpoint_url}/{model_serving_endpoint_name}\"  # Construct the URL for the specific model serving endpoint\n",
    "        response = requests.get(url, headers=headers)  # Send a GET request to the endpoint URL with the necessary headers\n",
    "        \n",
    "        # Ensure the response status code is 200 (OK)\n",
    "        assert (\n",
    "            response.status_code == 200\n",
    "        ), f\"Expected an HTTP 200 response, received {response.status_code}\\n{response.text}\"\n",
    "\n",
    "        # Extract the status of the endpoint from the response JSON\n",
    "        status = response.json().get(\"state\", {}).get(\"ready\", {})\n",
    "        # print(\"status\",status)  # Optional: Print the status for debugging purposes\n",
    "        \n",
    "        # Check if the endpoint status is \"READY\"\n",
    "        if status == \"READY\":\n",
    "            print(status)  # Print the status if the endpoint is ready\n",
    "            print(\"-\" * 80)  # Print a separator line for clarity\n",
    "            return  # Exit the function when the endpoint is ready\n",
    "        else:\n",
    "            # Print a message indicating the endpoint is not ready and wait for 5 minutes\n",
    "            print(f\"Endpoint not ready ({status}), waiting 5 minutes\")\n",
    "            time.sleep(300)  # Wait for 300 seconds (5 minutes) before checking again\n",
    "\n",
    "# Get the Databricks web application URL using an MLflow utility function\n",
    "api_url = mlflow.utils.databricks_utils.get_webapp_url()\n",
    "\n",
    "# Call the wait_for_endpoint function to wait for the serving endpoint to be ready\n",
    "wait_for_endpoint()\n"
   ]
  },
  {
   "cell_type": "markdown",
   "metadata": {
    "application/vnd.databricks.v1+cell": {
     "cellMetadata": {},
     "inputWidgets": {},
     "nuid": "6bd43391-b037-42a3-b531-7a255105252b",
     "showTitle": false,
     "tableResultSettingsMap": {},
     "title": ""
    }
   },
   "source": [
    "## Online Forecast\n",
    "Once the endpoint is ready, let's send a request to the model and generate an online forecast."
   ]
  },
  {
   "cell_type": "code",
   "execution_count": 0,
   "metadata": {
    "application/vnd.databricks.v1+cell": {
     "cellMetadata": {},
     "inputWidgets": {},
     "nuid": "b1684b8b-31aa-49e6-ab21-083163d3d5f7",
     "showTitle": false,
     "tableResultSettingsMap": {},
     "title": ""
    }
   },
   "outputs": [],
   "source": [
    "import os\n",
    "import requests\n",
    "import pandas as pd\n",
    "import json\n",
    "import matplotlib.pyplot as plt\n",
    "\n",
    "# Replace URL with the end point invocation url you get from Model Seriving page.\n",
    "endpoint_url = f\"https://{instance}/serving-endpoints/{model_serving_endpoint_name}/invocations\"\n",
    "token = dbutils.notebook.entry_point.getDbutils().notebook().getContext().apiToken().get()\n",
    "def forecast(input_data, url=endpoint_url, databricks_token=token):\n",
    "    headers = {\n",
    "        \"Authorization\": f\"Bearer {databricks_token}\",\n",
    "        \"Content-Type\": \"application/json\",\n",
    "    }\n",
    "    body = {'dataframe_split': input_data.to_dict(orient='split'),\"params\" :{'h':20}}\n",
    "    data = json.dumps(body)\n",
    "    response = requests.request(method=\"POST\", headers=headers, url=url, data=data)\n",
    "    if response.status_code != 200:\n",
    "        raise Exception(\n",
    "            f\"Request failed with status {response.status_code}, {response.text}\"\n",
    "        )\n",
    "    return response.json()"
   ]
  },
  {
   "cell_type": "code",
   "execution_count": 0,
   "metadata": {
    "application/vnd.databricks.v1+cell": {
     "cellMetadata": {},
     "inputWidgets": {},
     "nuid": "4fa8dfaf-e9bb-49f3-a64b-f8a5172610f8",
     "showTitle": false,
     "tableResultSettingsMap": {},
     "title": ""
    }
   },
   "outputs": [],
   "source": [
    "# Send forecast requests\n",
    "pdf['timestamp'] = pdf['timestamp'].astype('str')\n",
    "forecast(pdf)"
   ]
  },
  {
   "cell_type": "code",
   "execution_count": 0,
   "metadata": {
    "application/vnd.databricks.v1+cell": {
     "cellMetadata": {},
     "inputWidgets": {},
     "nuid": "e26509a8-8875-441c-aca8-38294f6c65dc",
     "showTitle": false,
     "tableResultSettingsMap": {},
     "title": ""
    }
   },
   "outputs": [],
   "source": [
    "# Delete the serving endpoint\n",
    "func_delete_model_serving_endpoint(model_serving_endpoint_name)"
   ]
  },
  {
   "cell_type": "markdown",
   "metadata": {
    "application/vnd.databricks.v1+cell": {
     "cellMetadata": {},
     "inputWidgets": {},
     "nuid": "6be3b5cd-f7ee-4fa5-882b-4320f1f048d5",
     "showTitle": false,
     "tableResultSettingsMap": {},
     "title": ""
    }
   },
   "source": [
    "© 2024 Databricks, Inc. All rights reserved. \n",
    "\n",
    "The sources in all notebooks in this directory and the sub-directories are provided subject to the Databricks License. All included or referenced third party libraries are subject to the licenses set forth below.\n"
   ]
  }
 ],
 "metadata": {
  "application/vnd.databricks.v1+notebook": {
   "computePreferences": null,
   "dashboards": [],
   "environmentMetadata": null,
   "inputWidgetPreferences": null,
   "language": "python",
   "notebookMetadata": {
    "pythonIndentUnit": 2
   },
   "notebookName": "04b_timegpt_fine_tune",
   "widgets": {}
  },
  "language_info": {
   "name": "python"
  }
 },
 "nbformat": 4,
 "nbformat_minor": 0
}
